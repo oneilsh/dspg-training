{
 "cells": [
  {
   "cell_type": "markdown",
   "metadata": {},
   "source": [
    "# A Data Science Adventure\n",
    "\n",
    "## *Where am I?*\n",
    "\n",
    "Welcome! You may be wondering what this is, and where you are. This is a collection of materials for learning introductory \"data science\" concepts from the comfort of your web browser. Before we talk about the environment (the windows, tabs, and buttons you see), let's first give an overview of what these materials will eventually cover:\n",
    "\n",
    "1. **The Linux command-line** - the command-line is an incredibly powerful interface for working with data and software, and it frequently serves as common 'glue' that pulls other data science tools together.\n",
    "\n",
    "\n",
    "<img src=\"images/terminal-shot.png\" width=40% />"
   ]
  },
  {
   "cell_type": "markdown",
   "metadata": {},
   "source": [
    "2. **Python** - a popular \"general purpose\" programming language commonly used for data science and many software development projects\n",
    "3. **Jupyter Notebooks** - an tool for mixing text, code (frequently Python), and data analysis outputs in a single interface. You're reading a jupyter notebook right now!\n",
    "\n",
    "<img src=\"images/notebook-shot.png\" width=40% />"
   ]
  },
  {
   "cell_type": "markdown",
   "metadata": {},
   "source": [
    "\n",
    "4. **R** - a popular \"statistical\" programming language also commonly used for data science.\n",
    "5. **RStudio** - while \n",
    "Jupyter Notebooks can run R code in addition to Python code, RStudio is a custom interface specifically written with R in mind with similar goals of readable and reproducible data analysis.\n",
    "\n",
    "<img src=\"images/rstudio-shot.png\" width=40% />"
   ]
  },
  {
   "cell_type": "markdown",
   "metadata": {},
   "source": [
    "### Organization\n",
    "\n",
    "These topics are organized into three individual \"tracks\" - one focusing on the command-line, one on Python and Jupyter, and one on R and RStudio. \n",
    "\n",
    "For the absolute beginner who wishing to learn all of these, that's the recommended order. However, initially the tracks are independent, so you can proceed with whatever suits your fancy. Continue reading below to get familiar with this interface."
   ]
  },
  {
   "cell_type": "markdown",
   "metadata": {},
   "source": [
    "## *What is this place?* \n",
    "\n",
    "### JupyterLab and Jupyter Notebooks\n",
    "\n",
    "You're interacting with a virtual computer serving data science tools over the web. This is not uncommon in modern data science--such \"cloud-based\" computers can provide resources (CPU, working memory, or data storage) for data analysis on-demand. \n",
    "\n",
    "*Note that, depending on how you got here, changes you make may or may not be saved; it depends on whether the particular cloud-based computer you're working with is designed to automatically clean up when you log out.*\n",
    "\n",
    "The interface you're viewing is called **JupyterLab**. JupyterLab provides browser-based access to other browser-based tools (like Jupyter Notebooks, RStudio, and a Linux command-line interface) as well as a file browser. \n",
    "\n",
    "The JupyterLab interface is highly configuable, but by default the file browser is located on the left. Jupyter \"notebook\" files have the extension `.ipynb`. On the right are \"lab tabs\", with each tab running a jupyter notebook (like the one you're reading now) or other applications. \n"
   ]
  },
  {
   "cell_type": "markdown",
   "metadata": {},
   "source": [
    "<img src=\"images/lab-screenshot.png\" width=80% align=left />"
   ]
  },
  {
   "cell_type": "markdown",
   "metadata": {},
   "source": [
    "Right-clicking on a file in the file browswer reveals a number of options, including renaming, moving, and copying files.\n",
    "\n",
    "### Kernels\n",
    "\n",
    "One thing you'll eventually notice is that each notebook is associated with a \"kernel\" - a term associated with Jupyter Notebooks that refers to a behind-the-scenes program that can run code embedded within the notebook itself. This notebook is running the `Python 3` kernel (indicated by \"Python 3\" in the upper-right corner of the notebook tab). To interact with the kernel, try clicking on the code cell below and then click the \"play\" button near the top of the notebook. "
   ]
  },
  {
   "cell_type": "code",
   "execution_count": 4,
   "metadata": {},
   "outputs": [
    {
     "name": "stdout",
     "output_type": "stream",
     "text": [
      "These lines of code will be executed by the Python 3 kernel!\n",
      "Two plus two equals: 4\n"
     ]
    }
   ],
   "source": [
    "print(\"These lines of code will be executed by the Python 3 kernel!\")\n",
    "print(\"Two plus two equals:\", 2 + 2)"
   ]
  },
  {
   "cell_type": "markdown",
   "metadata": {},
   "source": [
    "You can also press Shift-Enter inside a code cell to run it instead of using the play button. \n",
    "\n",
    "When a notebook has a running kernel, a green dot appears next to it in the file browser. Try opening the `test_open.ipynb` notebook in a new tab and running the code cell inside. \n",
    "\n",
    "When a notebook tab is closed, it's kernel isn't necessarily turned off - it could still be running code. To turn off the kernel, you can use the right-click menu on the notebook file and select \"Shut Down Kernel\", or you can use the \"Stop\" button on the far left to see a list of \"kernel sessions\" and shut them down from there. Try closing the `test_open.ipynb` tab and then shutting down the associated kernel. \n",
    "\n",
    "By the way, it's not usually necessary to worry about running kernels and shutting them down; we're just covering some of the basics of JupyterLab to help you get around."
   ]
  },
  {
   "cell_type": "markdown",
   "metadata": {},
   "source": [
    "### Opening "
   ]
  },
  {
   "cell_type": "code",
   "execution_count": null,
   "metadata": {},
   "outputs": [],
   "source": []
  }
 ],
 "metadata": {
  "kernelspec": {
   "display_name": "Python 3",
   "language": "python",
   "name": "python3"
  },
  "language_info": {
   "codemirror_mode": {
    "name": "ipython",
    "version": 3
   },
   "file_extension": ".py",
   "mimetype": "text/x-python",
   "name": "python",
   "nbconvert_exporter": "python",
   "pygments_lexer": "ipython3",
   "version": "3.7.3"
  }
 },
 "nbformat": 4,
 "nbformat_minor": 4
}
